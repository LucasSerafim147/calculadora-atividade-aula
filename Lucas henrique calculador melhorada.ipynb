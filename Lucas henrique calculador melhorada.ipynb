{
 "cells": [
  {
   "cell_type": "code",
   "execution_count": 3,
   "metadata": {},
   "outputs": [
    {
     "name": "stdout",
     "output_type": "stream",
     "text": [
      "+=====================+\n",
      "| Menu de operações   |\n",
      "-----------------------\n",
      "| + - somar           |\n",
      "| - - subtrair        |\n",
      "| * - multiplica      |\n",
      "| / - dividir         |\n",
      "| ** - exponenciacao  |\n",
      "| 0 - sair            |\n",
      "-----------------------\n"
     ]
    },
    {
     "ename": "ValueError",
     "evalue": "could not convert string to float: ''",
     "output_type": "error",
     "traceback": [
      "\u001b[1;31m---------------------------------------------------------------------------\u001b[0m",
      "\u001b[1;31mValueError\u001b[0m                                Traceback (most recent call last)",
      "Cell \u001b[1;32mIn[3], line 34\u001b[0m\n\u001b[0;32m     31\u001b[0m \u001b[38;5;28;01mif\u001b[39;00m op  \u001b[38;5;241m==\u001b[39m \u001b[38;5;241m0\u001b[39m :\n\u001b[0;32m     32\u001b[0m      \u001b[38;5;28;01mbreak\u001b[39;00m\n\u001b[1;32m---> 34\u001b[0m n1 \u001b[38;5;241m=\u001b[39m \u001b[38;5;28;43mfloat\u001b[39;49m\u001b[43m(\u001b[49m\u001b[38;5;28;43minput\u001b[39;49m\u001b[43m(\u001b[49m\u001b[38;5;124;43m\"\u001b[39;49m\u001b[38;5;124;43mPrimeiro número:\u001b[39;49m\u001b[38;5;124;43m\"\u001b[39;49m\u001b[43m)\u001b[49m\u001b[43m)\u001b[49m\n\u001b[0;32m     35\u001b[0m n2 \u001b[38;5;241m=\u001b[39m \u001b[38;5;28mfloat\u001b[39m(\u001b[38;5;28minput\u001b[39m(\u001b[38;5;124m\"\u001b[39m\u001b[38;5;124mSegundo número: \u001b[39m\u001b[38;5;124m\"\u001b[39m))\n\u001b[0;32m     37\u001b[0m \u001b[38;5;28;01mif\u001b[39;00m op\u001b[38;5;241m==\u001b[39m \u001b[38;5;124m'\u001b[39m\u001b[38;5;124m+\u001b[39m\u001b[38;5;124m'\u001b[39m:\n",
      "\u001b[1;31mValueError\u001b[0m: could not convert string to float: ''"
     ]
    }
   ],
   "source": [
    "def soma(n1,n2):\n",
    "    return n1+n2\n",
    " \n",
    "def subtrai(n1,n2):\n",
    "    return n1-n2\n",
    " \n",
    "def multiplica(n1,n2):\n",
    "    return n1*n2\n",
    " \n",
    "def divisao(n1,n2):\n",
    "    return n1/n2\n",
    " \n",
    "def expoente (n1,n2):\n",
    "    return n1**n2\n",
    "\n",
    "while True:\n",
    "    print(\"+=====================+\")\n",
    "    print(\"| Menu de operações   |\")\n",
    "    print(\"-----------------------\")\n",
    "    print(\"| + - somar           |\")\n",
    "    print(\"| - - subtrair        |\")\n",
    "    print(\"| * - multiplica      |\")\n",
    "    print(\"| / - dividir         |\")\n",
    "    print(\"| ** - exponenciacao  |\")\n",
    "    print(\"| 0 - sair            |\")\n",
    "    print(\"-----------------------\")\n",
    "    \n",
    " \n",
    "    op = str(input(\"insira uma operação válida: \"))\n",
    "    if op  == 0 :\n",
    "         break\n",
    " \n",
    "    n1 = float(input(\"Primeiro número:\"))\n",
    "    n2 = float(input(\"Segundo número: \"))\n",
    " \n",
    "    if op== '+':\n",
    "        print(\"O resultado da soma é: \",soma(n1,n2))\n",
    "    elif op == '-':\n",
    "        print(\"O resultado da subtracao é: \",subtrai(n1,n2))\n",
    "    elif op == '*':\n",
    "        print(\"O resultado da multiplicação é: \",multiplica(n1,n2))\n",
    "    elif op == '/':\n",
    "        print(\"O resultado da divisão é: \",divisao(n1,n2))\n",
    "    elif op == '**':\n",
    "        print(\"O resultado do expoente é: \",expoente(n1,n2))\n",
    "    else:\n",
    "        print(\"Insira uma operação valida.\")"
   ]
  }
 ],
 "metadata": {
  "kernelspec": {
   "display_name": "Python 3",
   "language": "python",
   "name": "python3"
  },
  "language_info": {
   "codemirror_mode": {
    "name": "ipython",
    "version": 3
   },
   "file_extension": ".py",
   "mimetype": "text/x-python",
   "name": "python",
   "nbconvert_exporter": "python",
   "pygments_lexer": "ipython3",
   "version": "3.12.1"
  }
 },
 "nbformat": 4,
 "nbformat_minor": 2
}
